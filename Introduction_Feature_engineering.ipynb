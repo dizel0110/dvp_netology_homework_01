{
 "cells": [
  {
   "cell_type": "code",
   "execution_count": 86,
   "metadata": {},
   "outputs": [],
   "source": [
    "import numpy as np\n",
    "import pandas as pd\n",
    "import math\n",
    "\n",
    "from sklearn.linear_model import LinearRegression"
   ]
  },
  {
   "cell_type": "markdown",
   "metadata": {},
   "source": [
    "Сказывается полученное образование, пока тянет на формулы и законы физики. Перебирал разные законы. Во всех них хотелось бы, чтобы некоторая переменная находилась в знаменателе, а обратная величина имела некое обснованное физическое явление. Например сопротивление и проводимость. Суть некую нелинейную зависимость (обратную, или иную) превратить в линейную заменой переменных (созданием нового столбца в датафрейме).\n",
    "\n",
    "Но, главное суть уловил. Можно и пофантазировать.\n",
    "Представим нашу планету, она крутится вокруг своей оси. На ней есть разные города, находящиеся или ближе к экватору, или ближе к полюсам. Люди ходят в горы, или работают в песчаных карьерах. :) Рассмотрим вращательное движение твердого тела вокруг неподвижной оси. Есть такие известные понятия, как угловая скорость тела при равномерном вращении. Формула такая \n",
    "$$\\varphi = \\varphi_0\\pm\\omega t$$\n",
    "Также существует понятие линейной и угловой скорости \n",
    "$$v=\\omega R$$\n",
    "В свою очередь частота вращения\n",
    "$$\\omega =  \\frac{2\\pi}{T}$$\n",
    "T - период вращения (в данном примере земные сутки).\n",
    "Можно фантазировать, что R можно получить по гео-метке и следовательно он может изменяться (это главное).\n",
    "$$\\varphi_0$$ - может быть, к примеру положение относительно Гринвича, и мы знаем, темно или светло в момент измерений.\n",
    "\n",
    "Применение к трекингу (к статистике, да и выдвижению гипотез): ведь для людей гео-локация это наручные часы,  для машин это навигаторы. По отношению к земле, которая, как правило, вращается линейно ;) пешеход будет вращаться и иметь угловую скорость практически не отличающуюся от скорости движения земли и мы можем его отличать от быстро движущихся нелинейных объектов.\n",
    "\n",
    "Но, пусть у нас будет не земля. А просто модель земли, в очень-очень маленьком масштабе (учебном масштабе). Воздух откачивать не будем. :)\n",
    "\n",
    "Итак мы готовы создать первичный датасет. Интересоваться будем угловой скоростью.\n"
   ]
  },
  {
   "cell_type": "code",
   "execution_count": 103,
   "metadata": {},
   "outputs": [
    {
     "data": {
      "text/html": [
       "<div>\n",
       "<style scoped>\n",
       "    .dataframe tbody tr th:only-of-type {\n",
       "        vertical-align: middle;\n",
       "    }\n",
       "\n",
       "    .dataframe tbody tr th {\n",
       "        vertical-align: top;\n",
       "    }\n",
       "\n",
       "    .dataframe thead th {\n",
       "        text-align: right;\n",
       "    }\n",
       "</style>\n",
       "<table border=\"1\" class=\"dataframe\">\n",
       "  <thead>\n",
       "    <tr style=\"text-align: right;\">\n",
       "      <th></th>\n",
       "      <th>velocity</th>\n",
       "      <th>radius</th>\n",
       "      <th>timestamp</th>\n",
       "      <th>phi</th>\n",
       "    </tr>\n",
       "  </thead>\n",
       "  <tbody>\n",
       "    <tr>\n",
       "      <td>69</td>\n",
       "      <td>690</td>\n",
       "      <td>19</td>\n",
       "      <td>435716986</td>\n",
       "      <td>37.462471</td>\n",
       "    </tr>\n",
       "    <tr>\n",
       "      <td>251</td>\n",
       "      <td>185</td>\n",
       "      <td>22</td>\n",
       "      <td>1184743091</td>\n",
       "      <td>9.590958</td>\n",
       "    </tr>\n",
       "    <tr>\n",
       "      <td>87</td>\n",
       "      <td>897</td>\n",
       "      <td>17</td>\n",
       "      <td>1168278555</td>\n",
       "      <td>53.816930</td>\n",
       "    </tr>\n",
       "    <tr>\n",
       "      <td>22</td>\n",
       "      <td>676</td>\n",
       "      <td>10</td>\n",
       "      <td>1577295814</td>\n",
       "      <td>68.804068</td>\n",
       "    </tr>\n",
       "    <tr>\n",
       "      <td>308</td>\n",
       "      <td>955</td>\n",
       "      <td>21</td>\n",
       "      <td>1293240839</td>\n",
       "      <td>46.687379</td>\n",
       "    </tr>\n",
       "    <tr>\n",
       "      <td>419</td>\n",
       "      <td>117</td>\n",
       "      <td>12</td>\n",
       "      <td>1502014853</td>\n",
       "      <td>10.942758</td>\n",
       "    </tr>\n",
       "    <tr>\n",
       "      <td>82</td>\n",
       "      <td>315</td>\n",
       "      <td>17</td>\n",
       "      <td>1234300326</td>\n",
       "      <td>19.697037</td>\n",
       "    </tr>\n",
       "    <tr>\n",
       "      <td>410</td>\n",
       "      <td>714</td>\n",
       "      <td>15</td>\n",
       "      <td>1475149266</td>\n",
       "      <td>48.695578</td>\n",
       "    </tr>\n",
       "    <tr>\n",
       "      <td>2</td>\n",
       "      <td>420</td>\n",
       "      <td>22</td>\n",
       "      <td>643855288</td>\n",
       "      <td>20.180623</td>\n",
       "    </tr>\n",
       "    <tr>\n",
       "      <td>238</td>\n",
       "      <td>793</td>\n",
       "      <td>15</td>\n",
       "      <td>1324369274</td>\n",
       "      <td>54.095239</td>\n",
       "    </tr>\n",
       "  </tbody>\n",
       "</table>\n",
       "</div>"
      ],
      "text/plain": [
       "     velocity  radius   timestamp        phi\n",
       "69        690      19   435716986  37.462471\n",
       "251       185      22  1184743091   9.590958\n",
       "87        897      17  1168278555  53.816930\n",
       "22        676      10  1577295814  68.804068\n",
       "308       955      21  1293240839  46.687379\n",
       "419       117      12  1502014853  10.942758\n",
       "82        315      17  1234300326  19.697037\n",
       "410       714      15  1475149266  48.695578\n",
       "2         420      22   643855288  20.180623\n",
       "238       793      15  1324369274  54.095239"
      ]
     },
     "execution_count": 103,
     "metadata": {},
     "output_type": "execute_result"
    }
   ],
   "source": [
    "# Создаём сэмпл\n",
    "n_samples = 500\n",
    "\n",
    "phi_0 = math.pi/3.0\n",
    "#phi_0= np.random.choice(2.0*math.pi,n_samples)/1000.0 + math.pi/3.0\n",
    "velocity = np.random.choice(1000, n_samples) + 5\n",
    "radius = np.random.choice(20, n_samples) + 5\n",
    "timestamp = np.random.choice(1583186440, n_samples) + 1000\n",
    "angvel = velocity / radius\n",
    "phi = (2.0*math.pi) * np.random.choice(1000, n_samples)/30000.0 + phi_0 + angvel * 1  \n",
    "\n",
    "#angvel = velocity / radius\n",
    "\n",
    "data = pd.DataFrame({'velocity': velocity, 'radius': radius, 'timestamp': timestamp, 'phi': phi}) #, 'angvel': angvel})\n",
    "data.sample(10)"
   ]
  },
  {
   "cell_type": "code",
   "execution_count": 104,
   "metadata": {},
   "outputs": [
    {
     "data": {
      "text/plain": [
       "<matplotlib.axes._subplots.AxesSubplot at 0x1968ccd8dc8>"
      ]
     },
     "execution_count": 104,
     "metadata": {},
     "output_type": "execute_result"
    },
    {
     "data": {
      "image/png": "[encoded data removed]",
      "text/plain": [
       "<Figure size 432x288 with 1 Axes>"
      ]
     },
     "metadata": {
      "needs_background": "light"
     },
     "output_type": "display_data"
    }
   ],
   "source": [
    "data.phi.hist()"
   ]
  },
  {
   "cell_type": "code",
   "execution_count": 105,
   "metadata": {},
   "outputs": [
    {
     "data": {
      "text/plain": [
       "<matplotlib.axes._subplots.AxesSubplot at 0x1968cd8de08>"
      ]
     },
     "execution_count": 105,
     "metadata": {},
     "output_type": "execute_result"
    },
    {
     "data": {
      "image/png": "[encoded data removed]",
      "text/plain": [
       "<Figure size 432x288 with 1 Axes>"
      ]
     },
     "metadata": {
      "needs_background": "light"
     },
     "output_type": "display_data"
    }
   ],
   "source": [
    "data.timestamp.hist()"
   ]
  },
  {
   "cell_type": "markdown",
   "metadata": {},
   "source": [
    "Угловая скорость на самом деле обратно пропорциональна радиусу. У нас заданы радиус и скорость.\n",
    "Проверим на линейность по отношению:\n",
    "   к радиусу (должно показать ошибку).\n",
    "А потом введем новый столбец (или сразу), который будет называться частота вращения, она обратно пропорциональна радиусу\n",
    "(и ошибки не должно быть на новую переменную).\n",
    "\n",
    "Конечно, надо поиграться параметрами так, чтобы обратная функция не апроксимировалась прямой. Так оно и случилось.\n",
    "\n",
    "Как я не менял радиус, линейность по отношению к радиусу менялась сильно.\n",
    "А по отношению к обратной величине - нет."
   ]
  },
  {
   "cell_type": "code",
   "execution_count": 106,
   "metadata": {},
   "outputs": [
    {
     "name": "stdout",
     "output_type": "stream",
     "text": [
      "Weights: [ 8.39057258e-02 -3.29843432e+00  8.36159649e-11]\n",
      "Bias: 50.34529016317308\n",
      "Error: 11.112737236781701\n"
     ]
    }
   ],
   "source": [
    "from sklearn.metrics import mean_absolute_error\n",
    "\n",
    "X = data[['velocity', 'radius', 'timestamp']]\n",
    "y = data['phi']\n",
    "reg = LinearRegression().fit(X, y)\n",
    "print('Weights: {}'.format(reg.coef_))\n",
    "print('Bias: {}'.format(reg.intercept_))\n",
    "\n",
    "pred_values = reg.predict(data[['velocity', 'radius', 'timestamp']])\n",
    "print('Error: {}'.format(mean_absolute_error(pred_values, y)))"
   ]
  },
  {
   "cell_type": "code",
   "execution_count": 116,
   "metadata": {},
   "outputs": [
    {
     "name": "stdout",
     "output_type": "stream",
     "text": [
      "Weights: [-3.78805654]\n",
      "Bias: 98.36225109976868\n",
      "Error: 20.605906107603303\n"
     ]
    }
   ],
   "source": [
    "from sklearn.metrics import mean_absolute_error\n",
    "\n",
    "X = data[['radius']]\n",
    "y = data['phi']\n",
    "reg = LinearRegression().fit(X, y)\n",
    "print('Weights: {}'.format(reg.coef_))\n",
    "print('Bias: {}'.format(reg.intercept_))\n",
    "\n",
    "pred_values = reg.predict(data[['radius']])\n",
    "print('Error: {}'.format(mean_absolute_error(pred_values, y)))"
   ]
  },
  {
   "cell_type": "code",
   "execution_count": 107,
   "metadata": {},
   "outputs": [
    {
     "data": {
      "text/html": [
       "<div>\n",
       "<style scoped>\n",
       "    .dataframe tbody tr th:only-of-type {\n",
       "        vertical-align: middle;\n",
       "    }\n",
       "\n",
       "    .dataframe tbody tr th {\n",
       "        vertical-align: top;\n",
       "    }\n",
       "\n",
       "    .dataframe thead th {\n",
       "        text-align: right;\n",
       "    }\n",
       "</style>\n",
       "<table border=\"1\" class=\"dataframe\">\n",
       "  <thead>\n",
       "    <tr style=\"text-align: right;\">\n",
       "      <th></th>\n",
       "      <th>velocity</th>\n",
       "      <th>radius</th>\n",
       "      <th>timestamp</th>\n",
       "      <th>phi</th>\n",
       "      <th>angvel</th>\n",
       "    </tr>\n",
       "  </thead>\n",
       "  <tbody>\n",
       "    <tr>\n",
       "      <td>0</td>\n",
       "      <td>33</td>\n",
       "      <td>5</td>\n",
       "      <td>366131839</td>\n",
       "      <td>7.802183</td>\n",
       "      <td>6.600000</td>\n",
       "    </tr>\n",
       "    <tr>\n",
       "      <td>1</td>\n",
       "      <td>398</td>\n",
       "      <td>10</td>\n",
       "      <td>643772119</td>\n",
       "      <td>41.030038</td>\n",
       "      <td>39.800000</td>\n",
       "    </tr>\n",
       "    <tr>\n",
       "      <td>2</td>\n",
       "      <td>420</td>\n",
       "      <td>22</td>\n",
       "      <td>643855288</td>\n",
       "      <td>20.180623</td>\n",
       "      <td>19.090909</td>\n",
       "    </tr>\n",
       "    <tr>\n",
       "      <td>3</td>\n",
       "      <td>187</td>\n",
       "      <td>22</td>\n",
       "      <td>106003199</td>\n",
       "      <td>9.570026</td>\n",
       "      <td>8.500000</td>\n",
       "    </tr>\n",
       "    <tr>\n",
       "      <td>4</td>\n",
       "      <td>494</td>\n",
       "      <td>18</td>\n",
       "      <td>491213770</td>\n",
       "      <td>28.506722</td>\n",
       "      <td>27.444444</td>\n",
       "    </tr>\n",
       "  </tbody>\n",
       "</table>\n",
       "</div>"
      ],
      "text/plain": [
       "   velocity  radius  timestamp        phi     angvel\n",
       "0        33       5  366131839   7.802183   6.600000\n",
       "1       398      10  643772119  41.030038  39.800000\n",
       "2       420      22  643855288  20.180623  19.090909\n",
       "3       187      22  106003199   9.570026   8.500000\n",
       "4       494      18  491213770  28.506722  27.444444"
      ]
     },
     "execution_count": 107,
     "metadata": {},
     "output_type": "execute_result"
    }
   ],
   "source": [
    "# Создаем новый признак 1\n",
    "data['angvel'] = data['velocity'] / data['radius']\n",
    "data.head(5)"
   ]
  },
  {
   "cell_type": "code",
   "execution_count": 108,
   "metadata": {},
   "outputs": [
    {
     "name": "stdout",
     "output_type": "stream",
     "text": [
      "Weights: [1.00009201]\n",
      "Bias: 1.1452161389656297\n",
      "Error: 0.050898434140175156\n"
     ]
    }
   ],
   "source": [
    "X = data[['angvel']]\n",
    "y = data['phi']\n",
    "reg = LinearRegression().fit(X, y)\n",
    "print('Weights: {}'.format(reg.coef_))\n",
    "print('Bias: {}'.format(reg.intercept_))\n",
    "\n",
    "pred_values = reg.predict(data[['angvel']])\n",
    "print('Error: {}'.format(mean_absolute_error(pred_values, y)))"
   ]
  },
  {
   "cell_type": "code",
   "execution_count": null,
   "metadata": {},
   "outputs": [],
   "source": []
  },
  {
   "cell_type": "markdown",
   "metadata": {},
   "source": [
    "Как на лекции, в ноль ошибку не довелось убрать, но заметил, если изменять данные по радиусу, то в первом случае ошибка сильно пляшет, а во втором ошибка, как правило примерно, около 0.05 по значению."
   ]
  },
  {
   "cell_type": "markdown",
   "metadata": {},
   "source": [
    "Попробуем ввести ещё одну переменную, не обратный радиус умноженный на скорость.\n",
    "А, исключительно, обратный радиус. И сравним с angvel при том же датасете."
   ]
  },
  {
   "cell_type": "code",
   "execution_count": 109,
   "metadata": {},
   "outputs": [
    {
     "data": {
      "text/html": [
       "<div>\n",
       "<style scoped>\n",
       "    .dataframe tbody tr th:only-of-type {\n",
       "        vertical-align: middle;\n",
       "    }\n",
       "\n",
       "    .dataframe tbody tr th {\n",
       "        vertical-align: top;\n",
       "    }\n",
       "\n",
       "    .dataframe thead th {\n",
       "        text-align: right;\n",
       "    }\n",
       "</style>\n",
       "<table border=\"1\" class=\"dataframe\">\n",
       "  <thead>\n",
       "    <tr style=\"text-align: right;\">\n",
       "      <th></th>\n",
       "      <th>velocity</th>\n",
       "      <th>radius</th>\n",
       "      <th>timestamp</th>\n",
       "      <th>phi</th>\n",
       "      <th>angvel</th>\n",
       "      <th>reverse_radius</th>\n",
       "    </tr>\n",
       "  </thead>\n",
       "  <tbody>\n",
       "    <tr>\n",
       "      <td>0</td>\n",
       "      <td>33</td>\n",
       "      <td>5</td>\n",
       "      <td>366131839</td>\n",
       "      <td>7.802183</td>\n",
       "      <td>6.600000</td>\n",
       "      <td>0.200000</td>\n",
       "    </tr>\n",
       "    <tr>\n",
       "      <td>1</td>\n",
       "      <td>398</td>\n",
       "      <td>10</td>\n",
       "      <td>643772119</td>\n",
       "      <td>41.030038</td>\n",
       "      <td>39.800000</td>\n",
       "      <td>0.100000</td>\n",
       "    </tr>\n",
       "    <tr>\n",
       "      <td>2</td>\n",
       "      <td>420</td>\n",
       "      <td>22</td>\n",
       "      <td>643855288</td>\n",
       "      <td>20.180623</td>\n",
       "      <td>19.090909</td>\n",
       "      <td>0.045455</td>\n",
       "    </tr>\n",
       "    <tr>\n",
       "      <td>3</td>\n",
       "      <td>187</td>\n",
       "      <td>22</td>\n",
       "      <td>106003199</td>\n",
       "      <td>9.570026</td>\n",
       "      <td>8.500000</td>\n",
       "      <td>0.045455</td>\n",
       "    </tr>\n",
       "    <tr>\n",
       "      <td>4</td>\n",
       "      <td>494</td>\n",
       "      <td>18</td>\n",
       "      <td>491213770</td>\n",
       "      <td>28.506722</td>\n",
       "      <td>27.444444</td>\n",
       "      <td>0.055556</td>\n",
       "    </tr>\n",
       "  </tbody>\n",
       "</table>\n",
       "</div>"
      ],
      "text/plain": [
       "   velocity  radius  timestamp        phi     angvel  reverse_radius\n",
       "0        33       5  366131839   7.802183   6.600000        0.200000\n",
       "1       398      10  643772119  41.030038  39.800000        0.100000\n",
       "2       420      22  643855288  20.180623  19.090909        0.045455\n",
       "3       187      22  106003199   9.570026   8.500000        0.045455\n",
       "4       494      18  491213770  28.506722  27.444444        0.055556"
      ]
     },
     "execution_count": 109,
     "metadata": {},
     "output_type": "execute_result"
    }
   ],
   "source": [
    "# Создаем новый признак 2\n",
    "data['reverse_radius'] = 1.0 / data['radius']\n",
    "data.head(5)"
   ]
  },
  {
   "cell_type": "code",
   "execution_count": 111,
   "metadata": {},
   "outputs": [
    {
     "name": "stdout",
     "output_type": "stream",
     "text": [
      "Weights: [522.07113272]\n",
      "Bias: -0.8748476306910504\n",
      "Error: 20.368074826637706\n"
     ]
    }
   ],
   "source": [
    "X = data[['reverse_radius']]\n",
    "y = data['phi']\n",
    "reg = LinearRegression().fit(X, y)\n",
    "print('Weights: {}'.format(reg.coef_))\n",
    "print('Bias: {}'.format(reg.intercept_))\n",
    "\n",
    "pred_values = reg.predict(data[['reverse_radius']])\n",
    "print('Error: {}'.format(mean_absolute_error(pred_values, y)))"
   ]
  },
  {
   "cell_type": "markdown",
   "metadata": {},
   "source": [
    "Интересно, получилось! Минимальная ошибка получается, если линеаризировать угловую скорость (phi) и угловую скорость."
   ]
  },
  {
   "cell_type": "code",
   "execution_count": 113,
   "metadata": {},
   "outputs": [],
   "source": [
    "import matplotlib.pyplot as plt"
   ]
  },
  {
   "cell_type": "markdown",
   "metadata": {},
   "source": [
    "$$ \\varphi $$ и $$ \\omega = \\frac{v}{R} $$"
   ]
  },
  {
   "cell_type": "code",
   "execution_count": 114,
   "metadata": {},
   "outputs": [
    {
     "data": {
      "image/png": "[encoded data removed]",
      "text/plain": [
       "<Figure size 432x288 with 1 Axes>"
      ]
     },
     "metadata": {
      "needs_background": "light"
     },
     "output_type": "display_data"
    }
   ],
   "source": [
    "plt.scatter(data.phi, data.angvel)\n",
    "plt.show()"
   ]
  },
  {
   "cell_type": "markdown",
   "metadata": {},
   "source": [
    "$$ \\varphi $$ и $$ \\frac{1}{R} $$"
   ]
  },
  {
   "cell_type": "code",
   "execution_count": 115,
   "metadata": {},
   "outputs": [
    {
     "data": {
      "image/png": "[encoded data removed]",
      "text/plain": [
       "<Figure size 432x288 with 1 Axes>"
      ]
     },
     "metadata": {
      "needs_background": "light"
     },
     "output_type": "display_data"
    }
   ],
   "source": [
    "plt.scatter(data.phi, data.reverse_radius)\n",
    "plt.show()"
   ]
  },
  {
   "cell_type": "markdown",
   "metadata": {},
   "source": [
    "$$ \\varphi $$ и $$ R $$"
   ]
  },
  {
   "cell_type": "code",
   "execution_count": 117,
   "metadata": {},
   "outputs": [
    {
     "data": {
      "image/png": "[encoded data removed]",
      "text/plain": [
       "<Figure size 432x288 with 1 Axes>"
      ]
     },
     "metadata": {
      "needs_background": "light"
     },
     "output_type": "display_data"
    }
   ],
   "source": [
    "plt.scatter(data.phi, data.radius)\n",
    "plt.show()"
   ]
  },
  {
   "cell_type": "code",
   "execution_count": null,
   "metadata": {},
   "outputs": [],
   "source": []
  }
 ],
 "metadata": {
  "kernelspec": {
   "display_name": "Python 3",
   "language": "python",
   "name": "python3"
  },
  "language_info": {
   "codemirror_mode": {
    "name": "ipython",
    "version": 3
   },
   "file_extension": ".py",
   "mimetype": "text/x-python",
   "name": "python",
   "nbconvert_exporter": "python",
   "pygments_lexer": "ipython3",
   "version": "3.7.4"
  }
 },
 "nbformat": 4,
 "nbformat_minor": 2
}
